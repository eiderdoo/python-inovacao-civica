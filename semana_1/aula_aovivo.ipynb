{
  "cells": [
    {
      "cell_type": "markdown",
      "id": "32600998",
      "metadata": {
        "id": "32600998"
      },
      "source": [
        "# Exercício\n",
        "\n",
        "Construa um programa que:\n",
        " - Pergunte a usuária 2 números inteiros;\n",
        " - Crie uma lista numérica do intervalo;\n",
        " - Se o número for divisível por 3, substitua-o por \"Tecnologia\";\n",
        " - Se o número for divisível por 5, substitua-o por \"Cívica\";\n",
        " - Se o número for divisível por 3 e 5, substitua-o por \"Tecnologia Cívica\"."
      ]
    },
    {
      "cell_type": "code",
      "source": [
        "numero_1 = int(input('Digite o inicio do intervalo (numero inteiro): '))\n",
        "numero_2 = int(input('Digite o fim do intervalo (numero inteiro): '))\n",
        "lista = list(range(numero_1, numero_2))\n",
        "lista_nova = []\n",
        "for numero in lista:\n",
        "  if numero % 3 == 0 and numero % 5 == 0:\n",
        "    lista_nova.append('Tecnologia Cívica')\n",
        "  elif numero % 3 == 0:\n",
        "    lista_nova.append('Tecnologia')\n",
        "  elif numero % 5 == 0:\n",
        "    lista_nova.append('Cívica')\n",
        "  else:\n",
        "    lista_nova.append(numero)\n",
        "  \n",
        "\n"
      ],
      "metadata": {
        "colab": {
          "base_uri": "https://localhost:8080/"
        },
        "id": "HZ-wmP99strv",
        "outputId": "229ed813-b04d-40c5-861b-4a61bc678ca4"
      },
      "id": "HZ-wmP99strv",
      "execution_count": 30,
      "outputs": [
        {
          "name": "stdout",
          "output_type": "stream",
          "text": [
            "Digite o inicio do intervalo (numero inteiro): 1\n",
            "Digite o fim do intervalo (numero inteiro): 32\n"
          ]
        }
      ]
    },
    {
      "cell_type": "code",
      "source": [
        "print(lista_nova)"
      ],
      "metadata": {
        "colab": {
          "base_uri": "https://localhost:8080/"
        },
        "id": "XHkeOLqNzBHw",
        "outputId": "70cd2799-6b07-4d3b-a5a6-c7f2d09c0612"
      },
      "id": "XHkeOLqNzBHw",
      "execution_count": 31,
      "outputs": [
        {
          "output_type": "stream",
          "name": "stdout",
          "text": [
            "[1, 2, 'Tecnologia', 4, 'Cívica', 'Tecnologia', 7, 8, 'Tecnologia', 'Cívica', 11, 'Tecnologia', 13, 14, 'Tecnologia Cívica', 16, 17, 'Tecnologia', 19, 'Cívica', 'Tecnologia', 22, 23, 'Tecnologia', 'Cívica', 26, 'Tecnologia', 28, 29, 'Tecnologia Cívica', 31]\n"
          ]
        }
      ]
    }
  ],
  "metadata": {
    "kernelspec": {
      "display_name": "Python 3 (ipykernel)",
      "language": "python",
      "name": "python3"
    },
    "language_info": {
      "codemirror_mode": {
        "name": "ipython",
        "version": 3
      },
      "file_extension": ".py",
      "mimetype": "text/x-python",
      "name": "python",
      "nbconvert_exporter": "python",
      "pygments_lexer": "ipython3",
      "version": "3.10.4"
    },
    "colab": {
      "provenance": []
    }
  },
  "nbformat": 4,
  "nbformat_minor": 5
}